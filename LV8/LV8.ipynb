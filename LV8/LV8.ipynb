{
 "cells": [
  {
   "cell_type": "code",
   "execution_count": 2,
   "metadata": {
    "scrolled": true
   },
   "outputs": [],
   "source": [
    "import keras\n",
    "from tensorflow.keras.preprocessing import image_dataset_from_directory\n",
    "import os\n",
    "import cv2\n",
    "from tensorflow.keras.models import Sequential\n",
    "from keras.layers import Flatten, Conv2D, MaxPooling2D, Dropout, Input, Dense\n",
    "from keras.layers.experimental.preprocessing import Rescaling\n",
    "import tensorflow.keras.layers\n",
    "import matplotlib.pyplot as plt\n",
    "import cv2\n",
    "import h5py\n",
    "from keras.preprocessing.image import load_img, img_to_array\n",
    "import numpy as np"
   ]
  },
  {
   "cell_type": "code",
   "execution_count": 3,
   "metadata": {
    "jupyter": {
     "outputs_hidden": true,
     "source_hidden": true
    },
    "tags": []
   },
   "outputs": [],
   "source": [
    "def SortTest():\n",
    "    temp = 0\n",
    "    with open(\"./GTSRB/Test.csv\") as f:\n",
    "        for line in f.readlines():\n",
    "            if temp == 0:\n",
    "                temp += 1\n",
    "                continue\n",
    "            info = line.split(\",\")\n",
    "            print(info)\n",
    "\n",
    "            try:\n",
    "                os.mkdir(\"./GTSRB/TestSorted/\" + info[-2])\n",
    "            except Exception:\n",
    "                pass\n",
    "\n",
    "            # print(\"./GTSRB/\" + info[-1][:-1], info[-1][:-1].split(\"/\")[-1])\n",
    "            os.rename(\"./GTSRB/\" + info[-1][:-1], \"./GTSRB/TestSorted/\" + info[-2] + \"/\" + info[-1][:-1].split(\"/\")[-1])"
   ]
  },
  {
   "cell_type": "code",
   "execution_count": 4,
   "metadata": {},
   "outputs": [],
   "source": [
    "# SortTest()"
   ]
  },
  {
   "cell_type": "code",
   "execution_count": 5,
   "metadata": {
    "jupyter": {
     "outputs_hidden": true,
     "source_hidden": true
    },
    "tags": []
   },
   "outputs": [
    {
     "name": "stdout",
     "output_type": "stream",
     "text": [
      "Found 39209 files belonging to 43 classes.\n"
     ]
    }
   ],
   "source": [
    "train_ds = image_dataset_from_directory(directory='GTSRB/Train/', labels='inferred', label_mode='categorical', batch_size=32, image_size=(48, 48))"
   ]
  },
  {
   "cell_type": "code",
   "execution_count": 6,
   "metadata": {
    "jupyter": {
     "outputs_hidden": true,
     "source_hidden": true
    },
    "tags": []
   },
   "outputs": [
    {
     "name": "stdout",
     "output_type": "stream",
     "text": [
      "Found 12630 files belonging to 43 classes.\n"
     ]
    }
   ],
   "source": [
    "test_ds = image_dataset_from_directory(directory='GTSRB/TestSorted/', labels='inferred', label_mode='categorical', batch_size=32, image_size=(48, 48))"
   ]
  },
  {
   "cell_type": "code",
   "execution_count": 7,
   "metadata": {},
   "outputs": [],
   "source": [
    "trainGeneartor = keras.preprocessing.image.ImageDataGenerator(rescale=1./255,\n",
    "                                                              rotation_range=30,\n",
    "                                                              width_shift_range=0.1,\n",
    "                                                              height_shift_range=0.1,\n",
    "                                                              zoom_range=0.2,\n",
    "                                                              shear_range=0.15,\n",
    "                                                              brightness_range=[0.75, 1.3],\n",
    "                                                              # horizontal_flip=True,\n",
    "                                                              # vertical_flip=True,\n",
    "                                                              fill_mode='nearest')\n",
    "testGenerator = keras.preprocessing.image.ImageDataGenerator(rescale=1./255)"
   ]
  },
  {
   "cell_type": "code",
   "execution_count": 8,
   "metadata": {
    "tags": []
   },
   "outputs": [
    {
     "name": "stdout",
     "output_type": "stream",
     "text": [
      "Found 39209 images belonging to 43 classes.\n",
      "Found 12630 images belonging to 43 classes.\n"
     ]
    }
   ],
   "source": [
    "train_ds = trainGeneartor.flow_from_directory('GTSRB/Train', batch_size=32, target_size=(48, 48), class_mode='categorical')\n",
    "test_ds = testGenerator.flow_from_directory('GTSRB/TestSorted', batch_size=32, target_size=(48, 48), class_mode='categorical')"
   ]
  },
  {
   "cell_type": "code",
   "execution_count": 9,
   "metadata": {},
   "outputs": [],
   "source": [
    "mc = keras.callbacks.ModelCheckpoint('./Model/',\n",
    "                                     monitor=\"val_accuracy\",\n",
    "                                     save_weights_only=True,\n",
    "                                     save_best_only=True,\n",
    "                                     verbose=1,\n",
    "                                     mode=\"max\",\n",
    "                                     save_freq=\"epoch\",\n",
    "                                     options=None,)"
   ]
  },
  {
   "cell_type": "code",
   "execution_count": 18,
   "metadata": {},
   "outputs": [],
   "source": [
    "def LoadModel():\n",
    "    model = keras.models.load_model('./Model')\n",
    "    model.input_shape\n",
    "    model.evaluate(test_ds)\n",
    "\n",
    "def TestImage():\n",
    "    x = img_to_array(load_img(r\"C:\\Users\\Davu\\JupyterNotebook\\LV8\\GTSRB\\TestSorted\\15\\00052.png\", target_size=(48, 48)))\n",
    "    print(x.shape)\n",
    "    x = np.expand_dims(x, axis=0)\n",
    "    print(x.shape)\n",
    "    guess = model.predict(x)\n",
    "    print(guess[0])\n",
    "    print(np.argmax(guess[0]))"
   ]
  },
  {
   "cell_type": "code",
   "execution_count": 19,
   "metadata": {
    "collapsed": true,
    "jupyter": {
     "outputs_hidden": true,
     "source_hidden": true
    },
    "tags": []
   },
   "outputs": [
    {
     "name": "stdout",
     "output_type": "stream",
     "text": [
      "Model: \"sequential\"\n",
      "_________________________________________________________________\n",
      "Layer (type)                 Output Shape              Param #   \n",
      "=================================================================\n",
      "conv2d (Conv2D)              (None, 46, 46, 32)        896       \n",
      "_________________________________________________________________\n",
      "conv2d_1 (Conv2D)            (None, 44, 44, 32)        9248      \n",
      "_________________________________________________________________\n",
      "max_pooling2d (MaxPooling2D) (None, 22, 22, 32)        0         \n",
      "_________________________________________________________________\n",
      "dropout (Dropout)            (None, 22, 22, 32)        0         \n",
      "_________________________________________________________________\n",
      "conv2d_2 (Conv2D)            (None, 20, 20, 64)        18496     \n",
      "_________________________________________________________________\n",
      "conv2d_3 (Conv2D)            (None, 18, 18, 64)        36928     \n",
      "_________________________________________________________________\n",
      "max_pooling2d_1 (MaxPooling2 (None, 9, 9, 64)          0         \n",
      "_________________________________________________________________\n",
      "dropout_1 (Dropout)          (None, 9, 9, 64)          0         \n",
      "_________________________________________________________________\n",
      "conv2d_4 (Conv2D)            (None, 7, 7, 128)         73856     \n",
      "_________________________________________________________________\n",
      "conv2d_5 (Conv2D)            (None, 5, 5, 128)         147584    \n",
      "_________________________________________________________________\n",
      "max_pooling2d_2 (MaxPooling2 (None, 2, 2, 128)         0         \n",
      "_________________________________________________________________\n",
      "dropout_2 (Dropout)          (None, 2, 2, 128)         0         \n",
      "_________________________________________________________________\n",
      "flatten (Flatten)            (None, 512)               0         \n",
      "_________________________________________________________________\n",
      "dense (Dense)                (None, 43)                22059     \n",
      "=================================================================\n",
      "Total params: 309,067\n",
      "Trainable params: 309,067\n",
      "Non-trainable params: 0\n",
      "_________________________________________________________________\n"
     ]
    }
   ],
   "source": [
    "model = Sequential()\n",
    "model.add(Input(shape=(48, 48, 3, )))\n",
    "# model.add(Rescaling(scale=1./255))\n",
    "\n",
    "model.add(Conv2D(32, kernel_size=(3, 3), activation='relu'))\n",
    "# model.add(MaxPooling2D(pool_size=(2, 2)))\n",
    "model.add(Conv2D(32, kernel_size=(3, 3), activation='relu'))\n",
    "model.add(MaxPooling2D(pool_size=(2, 2)))\n",
    "model.add(Dropout(rate=0.2))\n",
    "\n",
    "model.add(Conv2D(64, kernel_size=(3, 3), activation='relu'))\n",
    "model.add(Conv2D(64, kernel_size=(3, 3), activation='relu'))\n",
    "model.add(MaxPooling2D(pool_size=(2, 2)))\n",
    "model.add(Dropout(rate=0.2))\n",
    "\n",
    "model.add(Conv2D(128, kernel_size=(3, 3), activation='relu'))\n",
    "model.add(Conv2D(128, kernel_size=(3, 3), activation='relu'))\n",
    "model.add(MaxPooling2D(pool_size=(2, 2)))\n",
    "model.add(Dropout(rate=0.2))\n",
    "\n",
    "model.add(Flatten())\n",
    "# model.add(Dense(units=1000, activation='relu'))\n",
    "model.add(Dense(units=43, activation='softmax'))\n",
    "\n",
    "model.summary()"
   ]
  },
  {
   "cell_type": "code",
   "execution_count": 20,
   "metadata": {
    "jupyter": {
     "outputs_hidden": true
    },
    "tags": []
   },
   "outputs": [
    {
     "name": "stdout",
     "output_type": "stream",
     "text": [
      "Epoch 1/5\n",
      "1226/1226 [==============================] - 94s 72ms/step - loss: 2.3147 - accuracy: 0.3443 - val_loss: 0.3880 - val_accuracy: 0.8983\n",
      "\n",
      "Epoch 00001: val_accuracy improved from -inf to 0.89826, saving model to ./Model\\\n",
      "Epoch 2/5\n",
      "1226/1226 [==============================] - 72s 58ms/step - loss: 0.4295 - accuracy: 0.8645 - val_loss: 0.3245 - val_accuracy: 0.9120\n",
      "\n",
      "Epoch 00002: val_accuracy improved from 0.89826 to 0.91196, saving model to ./Model\\\n",
      "Epoch 3/5\n",
      "1226/1226 [==============================] - 68s 55ms/step - loss: 0.2344 - accuracy: 0.9287 - val_loss: 0.1765 - val_accuracy: 0.9538\n",
      "\n",
      "Epoch 00003: val_accuracy improved from 0.91196 to 0.95376, saving model to ./Model\\\n",
      "Epoch 4/5\n",
      "1226/1226 [==============================] - 68s 55ms/step - loss: 0.1545 - accuracy: 0.9528 - val_loss: 0.1346 - val_accuracy: 0.9673\n",
      "\n",
      "Epoch 00004: val_accuracy improved from 0.95376 to 0.96730, saving model to ./Model\\\n",
      "Epoch 5/5\n",
      "1226/1226 [==============================] - 68s 55ms/step - loss: 0.1370 - accuracy: 0.9571 - val_loss: 0.2259 - val_accuracy: 0.9477\n",
      "\n",
      "Epoch 00005: val_accuracy did not improve from 0.96730\n"
     ]
    },
    {
     "data": {
      "text/plain": [
       "<tensorflow.python.keras.callbacks.History at 0x13cf3bc1d00>"
      ]
     },
     "execution_count": 20,
     "metadata": {},
     "output_type": "execute_result"
    }
   ],
   "source": [
    "model.compile(loss='categorical_crossentropy', optimizer='adam', metrics=['accuracy'])\n",
    "model.fit(train_ds, epochs=5, validation_data=test_ds, callbacks=[mc])"
   ]
  },
  {
   "cell_type": "code",
   "execution_count": 57,
   "metadata": {},
   "outputs": [
    {
     "name": "stdout",
     "output_type": "stream",
     "text": [
      "INFO:tensorflow:Assets written to: ./GoodShit\\assets\n"
     ]
    }
   ],
   "source": [
    "model.save('./Model')"
   ]
  }
 ],
 "metadata": {
  "kernelspec": {
   "display_name": "Python 3",
   "language": "python",
   "name": "python3"
  },
  "language_info": {
   "codemirror_mode": {
    "name": "ipython",
    "version": 3
   },
   "file_extension": ".py",
   "mimetype": "text/x-python",
   "name": "python",
   "nbconvert_exporter": "python",
   "pygments_lexer": "ipython3",
   "version": "3.8.3"
  }
 },
 "nbformat": 4,
 "nbformat_minor": 4
}
